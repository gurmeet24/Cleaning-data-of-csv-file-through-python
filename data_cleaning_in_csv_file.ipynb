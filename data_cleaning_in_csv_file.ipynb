{
  "nbformat": 4,
  "nbformat_minor": 0,
  "metadata": {
    "colab": {
      "provenance": []
    },
    "kernelspec": {
      "name": "python3",
      "display_name": "Python 3"
    },
    "language_info": {
      "name": "python"
    }
  },
  "cells": [
    {
      "cell_type": "code",
      "execution_count": 1,
      "metadata": {
        "id": "o6rSZRU1-KpH"
      },
      "outputs": [],
      "source": [
        "import pandas as pd\n",
        "\n",
        "# Read the CSV file into a DataFrame\n",
        "df = pd.read_csv('playlist_track.csv')\n",
        "\n",
        "# Remove duplicate rows based on 'track_id' column\n",
        "df.drop_duplicates(subset='track_id', inplace=True)\n",
        "\n",
        "# Save the cleaned DataFrame back to a CSV file\n",
        "df.to_csv('cleaned_playlist_track.csv', index=False)\n"
      ]
    }
  ]
}